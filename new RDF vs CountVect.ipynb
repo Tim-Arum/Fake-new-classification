{
 "cells": [
  {
   "cell_type": "markdown",
   "metadata": {},
   "source": [
    "# Fake news classification"
   ]
  },
  {
   "cell_type": "markdown",
   "metadata": {},
   "source": [
    "The spread of fraudulent information is one of the most serious issues we face today. Most of the time, this material is given under the pretence of journalism. The internet and social media make it simple to disseminate such knowledge, and it has influenced many people today by changing or attempting to modify their opinions about many topics. False information or fake news can be classified using a variety of methods. To detect false news, this thesis used the Random Forest model as a classifier and CountVectorizer as a feature extractor. The performance of six additional machine learning algorithms was also examined in this thesis. To analyse the outcomes of these investigations, four assessment approaches are employed. The study's findings demonstrate that each of the seven methods has a distinct performance. One of these methods has shown to be the most effective for identifying misleading information or fake news."
   ]
  },
  {
   "cell_type": "code",
   "execution_count": 1,
   "metadata": {},
   "outputs": [],
   "source": [
    "# Importing all the necessary library that is needed for this work.\n",
    "import numpy as np\n",
    "import pandas as pd \n",
    "import os\n",
    "import matplotlib.pyplot as plt\n",
    "import seaborn as sns\n",
    "from sklearn.model_selection import train_test_split\n",
    "from sklearn.feature_extraction.text import CountVectorizer\n",
    "from datetime import datetime\n",
    "from sklearn.metrics import accuracy_score, confusion_matrix,classification_report"
   ]
  },
  {
   "cell_type": "code",
   "execution_count": 2,
   "metadata": {},
   "outputs": [],
   "source": [
    "# Importation of the dataset\n",
    "news = pd.read_csv('C:/Users/timot/Downloads/news.csv')"
   ]
  },
  {
   "cell_type": "code",
   "execution_count": 3,
   "metadata": {},
   "outputs": [
    {
     "data": {
      "text/plain": [
       "(6335, 4)"
      ]
     },
     "execution_count": 3,
     "metadata": {},
     "output_type": "execute_result"
    }
   ],
   "source": [
    "#To see the shape of the Dataset\n",
    "news.shape"
   ]
  },
  {
   "cell_type": "code",
   "execution_count": 4,
   "metadata": {},
   "outputs": [
    {
     "data": {
      "text/plain": [
       "Unnamed: 0    0\n",
       "title         0\n",
       "text          0\n",
       "label         0\n",
       "dtype: int64"
      ]
     },
     "execution_count": 4,
     "metadata": {},
     "output_type": "execute_result"
    }
   ],
   "source": [
    "#To see the headings of the dataset\n",
    "news.isnull().sum()"
   ]
  },
  {
   "cell_type": "code",
   "execution_count": 5,
   "metadata": {},
   "outputs": [
    {
     "name": "stdout",
     "output_type": "stream",
     "text": [
      "label\n",
      "FAKE    3164\n",
      "REAL    3171\n",
      "Name: text, dtype: int64\n"
     ]
    },
    {
     "data": {
      "image/png": "[encoded data removed]",
      "text/plain": [
       "<Figure size 432x288 with 1 Axes>"
      ]
     },
     "metadata": {
      "needs_background": "light"
     },
     "output_type": "display_data"
    }
   ],
   "source": [
    "# Plotting the Real and Fake news in the dataset to see the normality \n",
    "print(news.groupby(['label'])['text'].count())\n",
    "news.groupby(['label'])['text'].count().plot(kind=\"bar\")\n",
    "plt.show()"
   ]
  },
  {
   "cell_type": "code",
   "execution_count": 6,
   "metadata": {},
   "outputs": [
    {
     "data": {
      "text/html": [
       "<div>\n",
       "<style scoped>\n",
       "    .dataframe tbody tr th:only-of-type {\n",
       "        vertical-align: middle;\n",
       "    }\n",
       "\n",
       "    .dataframe tbody tr th {\n",
       "        vertical-align: top;\n",
       "    }\n",
       "\n",
       "    .dataframe thead th {\n",
       "        text-align: right;\n",
       "    }\n",
       "</style>\n",
       "<table border=\"1\" class=\"dataframe\">\n",
       "  <thead>\n",
       "    <tr style=\"text-align: right;\">\n",
       "      <th></th>\n",
       "      <th>Unnamed: 0</th>\n",
       "      <th>title</th>\n",
       "      <th>text</th>\n",
       "      <th>label</th>\n",
       "    </tr>\n",
       "  </thead>\n",
       "  <tbody>\n",
       "    <tr>\n",
       "      <th>0</th>\n",
       "      <td>8476</td>\n",
       "      <td>You Can Smell Hillary’s Fear</td>\n",
       "      <td>Daniel Greenfield, a Shillman Journalism Fello...</td>\n",
       "      <td>FAKE</td>\n",
       "    </tr>\n",
       "    <tr>\n",
       "      <th>1</th>\n",
       "      <td>10294</td>\n",
       "      <td>Watch The Exact Moment Paul Ryan Committed Pol...</td>\n",
       "      <td>Google Pinterest Digg Linkedin Reddit Stumbleu...</td>\n",
       "      <td>FAKE</td>\n",
       "    </tr>\n",
       "    <tr>\n",
       "      <th>2</th>\n",
       "      <td>3608</td>\n",
       "      <td>Kerry to go to Paris in gesture of sympathy</td>\n",
       "      <td>U.S. Secretary of State John F. Kerry said Mon...</td>\n",
       "      <td>REAL</td>\n",
       "    </tr>\n",
       "    <tr>\n",
       "      <th>3</th>\n",
       "      <td>10142</td>\n",
       "      <td>Bernie supporters on Twitter erupt in anger ag...</td>\n",
       "      <td>— Kaydee King (@KaydeeKing) November 9, 2016 T...</td>\n",
       "      <td>FAKE</td>\n",
       "    </tr>\n",
       "    <tr>\n",
       "      <th>4</th>\n",
       "      <td>875</td>\n",
       "      <td>The Battle of New York: Why This Primary Matters</td>\n",
       "      <td>It's primary day in New York and front-runners...</td>\n",
       "      <td>REAL</td>\n",
       "    </tr>\n",
       "  </tbody>\n",
       "</table>\n",
       "</div>"
      ],
      "text/plain": [
       "   Unnamed: 0                                              title  \\\n",
       "0        8476                       You Can Smell Hillary’s Fear   \n",
       "1       10294  Watch The Exact Moment Paul Ryan Committed Pol...   \n",
       "2        3608        Kerry to go to Paris in gesture of sympathy   \n",
       "3       10142  Bernie supporters on Twitter erupt in anger ag...   \n",
       "4         875   The Battle of New York: Why This Primary Matters   \n",
       "\n",
       "                                                text label  \n",
       "0  Daniel Greenfield, a Shillman Journalism Fello...  FAKE  \n",
       "1  Google Pinterest Digg Linkedin Reddit Stumbleu...  FAKE  \n",
       "2  U.S. Secretary of State John F. Kerry said Mon...  REAL  \n",
       "3  — Kaydee King (@KaydeeKing) November 9, 2016 T...  FAKE  \n",
       "4  It's primary day in New York and front-runners...  REAL  "
      ]
     },
     "execution_count": 6,
     "metadata": {},
     "output_type": "execute_result"
    }
   ],
   "source": [
    "# To view the dataset\n",
    "labels=news.label\n",
    "news.label.value_counts()\n",
    "news.head()"
   ]
  },
  {
   "cell_type": "code",
   "execution_count": 7,
   "metadata": {},
   "outputs": [
    {
     "data": {
      "text/html": [
       "<div>\n",
       "<style scoped>\n",
       "    .dataframe tbody tr th:only-of-type {\n",
       "        vertical-align: middle;\n",
       "    }\n",
       "\n",
       "    .dataframe tbody tr th {\n",
       "        vertical-align: top;\n",
       "    }\n",
       "\n",
       "    .dataframe thead th {\n",
       "        text-align: right;\n",
       "    }\n",
       "</style>\n",
       "<table border=\"1\" class=\"dataframe\">\n",
       "  <thead>\n",
       "    <tr style=\"text-align: right;\">\n",
       "      <th></th>\n",
       "      <th>text</th>\n",
       "      <th>label</th>\n",
       "    </tr>\n",
       "  </thead>\n",
       "  <tbody>\n",
       "    <tr>\n",
       "      <th>0</th>\n",
       "      <td>You Can Smell Hillary’s Fear Daniel Greenfield...</td>\n",
       "      <td>FAKE</td>\n",
       "    </tr>\n",
       "    <tr>\n",
       "      <th>1</th>\n",
       "      <td>Watch The Exact Moment Paul Ryan Committed Pol...</td>\n",
       "      <td>FAKE</td>\n",
       "    </tr>\n",
       "    <tr>\n",
       "      <th>2</th>\n",
       "      <td>Kerry to go to Paris in gesture of sympathy U....</td>\n",
       "      <td>REAL</td>\n",
       "    </tr>\n",
       "    <tr>\n",
       "      <th>3</th>\n",
       "      <td>Bernie supporters on Twitter erupt in anger ag...</td>\n",
       "      <td>FAKE</td>\n",
       "    </tr>\n",
       "    <tr>\n",
       "      <th>4</th>\n",
       "      <td>The Battle of New York: Why This Primary Matte...</td>\n",
       "      <td>REAL</td>\n",
       "    </tr>\n",
       "    <tr>\n",
       "      <th>...</th>\n",
       "      <td>...</td>\n",
       "      <td>...</td>\n",
       "    </tr>\n",
       "    <tr>\n",
       "      <th>6330</th>\n",
       "      <td>State Department says it can't find emails fro...</td>\n",
       "      <td>REAL</td>\n",
       "    </tr>\n",
       "    <tr>\n",
       "      <th>6331</th>\n",
       "      <td>The ‘P’ in PBS Should Stand for ‘Plutocratic’ ...</td>\n",
       "      <td>FAKE</td>\n",
       "    </tr>\n",
       "    <tr>\n",
       "      <th>6332</th>\n",
       "      <td>Anti-Trump Protesters Are Tools of the Oligarc...</td>\n",
       "      <td>FAKE</td>\n",
       "    </tr>\n",
       "    <tr>\n",
       "      <th>6333</th>\n",
       "      <td>In Ethiopia, Obama seeks progress on peace, se...</td>\n",
       "      <td>REAL</td>\n",
       "    </tr>\n",
       "    <tr>\n",
       "      <th>6334</th>\n",
       "      <td>Jeb Bush Is Suddenly Attacking Trump. Here's W...</td>\n",
       "      <td>REAL</td>\n",
       "    </tr>\n",
       "  </tbody>\n",
       "</table>\n",
       "<p>6335 rows × 2 columns</p>\n",
       "</div>"
      ],
      "text/plain": [
       "                                                   text label\n",
       "0     You Can Smell Hillary’s Fear Daniel Greenfield...  FAKE\n",
       "1     Watch The Exact Moment Paul Ryan Committed Pol...  FAKE\n",
       "2     Kerry to go to Paris in gesture of sympathy U....  REAL\n",
       "3     Bernie supporters on Twitter erupt in anger ag...  FAKE\n",
       "4     The Battle of New York: Why This Primary Matte...  REAL\n",
       "...                                                 ...   ...\n",
       "6330  State Department says it can't find emails fro...  REAL\n",
       "6331  The ‘P’ in PBS Should Stand for ‘Plutocratic’ ...  FAKE\n",
       "6332  Anti-Trump Protesters Are Tools of the Oligarc...  FAKE\n",
       "6333  In Ethiopia, Obama seeks progress on peace, se...  REAL\n",
       "6334  Jeb Bush Is Suddenly Attacking Trump. Here's W...  REAL\n",
       "\n",
       "[6335 rows x 2 columns]"
      ]
     },
     "execution_count": 7,
     "metadata": {},
     "output_type": "execute_result"
    }
   ],
   "source": [
    "#Dropping the unwanted columns \n",
    "news[\"text\"] = news[\"title\"] + \" \"+ news[\"text\"]\n",
    "news.drop([\"Unnamed: 0\",\"title\"], axis = 1)"
   ]
  },
  {
   "cell_type": "code",
   "execution_count": 8,
   "metadata": {},
   "outputs": [
    {
     "name": "stderr",
     "output_type": "stream",
     "text": [
      "[nltk_data] Downloading package stopwords to\n",
      "[nltk_data]     C:\\Users\\timot\\AppData\\Roaming\\nltk_data...\n",
      "[nltk_data]   Package stopwords is already up-to-date!\n",
      "[nltk_data] Downloading package punkt to\n",
      "[nltk_data]     C:\\Users\\timot\\AppData\\Roaming\\nltk_data...\n",
      "[nltk_data]   Package punkt is already up-to-date!\n"
     ]
    },
    {
     "data": {
      "text/plain": [
       "True"
      ]
     },
     "execution_count": 8,
     "metadata": {},
     "output_type": "execute_result"
    }
   ],
   "source": [
    "# Importing stopword \n",
    "import nltk\n",
    "nltk.download(\"stopwords\")\n",
    "nltk.download(\"punkt\")"
   ]
  },
  {
   "cell_type": "code",
   "execution_count": 9,
   "metadata": {},
   "outputs": [],
   "source": [
    "#Data Cleaning \n",
    "import re\n",
    "import string\n",
    "stopwords = nltk.corpus.stopwords.words('english')\n",
    "stemmer = nltk.PorterStemmer()\n",
    "\n",
    "def count_punct(text):\n",
    "    count = sum([1 for char in text if char in string.punctuation])\n",
    "    return round(count/(len(text) - text.count(\" \")), 3)*100\n",
    "\n",
    "news['body_len'] = news['text'].apply(lambda x: len(x) - x.count(\" \"))\n",
    "news['punct%'] = news['text'].apply(lambda x: count_punct(x))\n",
    "\n",
    "def clean_text(text):\n",
    "    text = \"\".join([word.lower() for word in text if word not in string.punctuation])\n",
    "    tokens = re.split('\\W+', text)\n",
    "    text = [stemmer.stem(word) for word in tokens if word not in stopwords]\n",
    "    return text"
   ]
  },
  {
   "cell_type": "code",
   "execution_count": 10,
   "metadata": {},
   "outputs": [],
   "source": [
    "#Data spliting into training and test set\n",
    "X_train, X_test, y_train, y_test = train_test_split(X,y, test_size=0.3, random_state=42)"
   ]
  },
  {
   "cell_type": "code",
   "execution_count": 11,
   "metadata": {},
   "outputs": [
    {
     "name": "stderr",
     "output_type": "stream",
     "text": [
      "C:\\Users\\timot\\anaconda3\\lib\\site-packages\\sklearn\\feature_extraction\\text.py:502: UserWarning: The parameter 'stop_words' will not be used since 'analyzer' != 'word'\n",
      "  warnings.warn(\"The parameter 'stop_words' will not be used\"\n"
     ]
    },
    {
     "name": "stdout",
     "output_type": "stream",
     "text": [
      "Duration: 0:02:48.613257\n"
     ]
    }
   ],
   "source": [
    "#Initialization of the feature extraction, that is vectorizer\n",
    "start_time = datetime.now()\n",
    "count_vectorizer=CountVectorizer(stop_words='english', max_df=0.9, analyzer=clean_text)\n",
    "count_vectorizer_fit=count_vectorizer.fit(X_train['text']) \n",
    "count_train = count_vectorizer_fit.transform(X_train['text'])\n",
    "count_test = count_vectorizer_fit.transform(X_test['text'])\n",
    "\n",
    "X_train_vect = pd.concat([X_train[['body_len', 'punct%']].reset_index(drop=True), \n",
    "           pd.DataFrame(count_train.toarray())], axis=1)\n",
    "X_test_vect = pd.concat([X_test[['body_len', 'punct%']].reset_index(drop=True), \n",
    "           pd.DataFrame(count_test.toarray())], axis=1)\n",
    "\n",
    "end_time = datetime.now()\n",
    "print('Duration: {}'.format(end_time - start_time))"
   ]
  },
  {
   "cell_type": "code",
   "execution_count": 12,
   "metadata": {},
   "outputs": [
    {
     "data": {
      "text/html": [
       "<div>\n",
       "<style scoped>\n",
       "    .dataframe tbody tr th:only-of-type {\n",
       "        vertical-align: middle;\n",
       "    }\n",
       "\n",
       "    .dataframe tbody tr th {\n",
       "        vertical-align: top;\n",
       "    }\n",
       "\n",
       "    .dataframe thead th {\n",
       "        text-align: right;\n",
       "    }\n",
       "</style>\n",
       "<table border=\"1\" class=\"dataframe\">\n",
       "  <thead>\n",
       "    <tr style=\"text-align: right;\">\n",
       "      <th></th>\n",
       "      <th>body_len</th>\n",
       "      <th>punct%</th>\n",
       "      <th>0</th>\n",
       "      <th>1</th>\n",
       "      <th>2</th>\n",
       "      <th>3</th>\n",
       "      <th>4</th>\n",
       "      <th>5</th>\n",
       "      <th>6</th>\n",
       "      <th>7</th>\n",
       "      <th>...</th>\n",
       "      <th>51094</th>\n",
       "      <th>51095</th>\n",
       "      <th>51096</th>\n",
       "      <th>51097</th>\n",
       "      <th>51098</th>\n",
       "      <th>51099</th>\n",
       "      <th>51100</th>\n",
       "      <th>51101</th>\n",
       "      <th>51102</th>\n",
       "      <th>51103</th>\n",
       "    </tr>\n",
       "  </thead>\n",
       "  <tbody>\n",
       "    <tr>\n",
       "      <th>0</th>\n",
       "      <td>4481</td>\n",
       "      <td>3.1</td>\n",
       "      <td>0</td>\n",
       "      <td>0</td>\n",
       "      <td>0</td>\n",
       "      <td>0</td>\n",
       "      <td>0</td>\n",
       "      <td>0</td>\n",
       "      <td>0</td>\n",
       "      <td>0</td>\n",
       "      <td>...</td>\n",
       "      <td>0</td>\n",
       "      <td>0</td>\n",
       "      <td>0</td>\n",
       "      <td>0</td>\n",
       "      <td>0</td>\n",
       "      <td>0</td>\n",
       "      <td>0</td>\n",
       "      <td>0</td>\n",
       "      <td>0</td>\n",
       "      <td>0</td>\n",
       "    </tr>\n",
       "    <tr>\n",
       "      <th>1</th>\n",
       "      <td>9474</td>\n",
       "      <td>3.3</td>\n",
       "      <td>0</td>\n",
       "      <td>0</td>\n",
       "      <td>0</td>\n",
       "      <td>0</td>\n",
       "      <td>0</td>\n",
       "      <td>0</td>\n",
       "      <td>0</td>\n",
       "      <td>0</td>\n",
       "      <td>...</td>\n",
       "      <td>0</td>\n",
       "      <td>0</td>\n",
       "      <td>0</td>\n",
       "      <td>0</td>\n",
       "      <td>0</td>\n",
       "      <td>0</td>\n",
       "      <td>0</td>\n",
       "      <td>0</td>\n",
       "      <td>0</td>\n",
       "      <td>0</td>\n",
       "    </tr>\n",
       "    <tr>\n",
       "      <th>2</th>\n",
       "      <td>6744</td>\n",
       "      <td>2.5</td>\n",
       "      <td>0</td>\n",
       "      <td>0</td>\n",
       "      <td>0</td>\n",
       "      <td>0</td>\n",
       "      <td>0</td>\n",
       "      <td>0</td>\n",
       "      <td>0</td>\n",
       "      <td>0</td>\n",
       "      <td>...</td>\n",
       "      <td>0</td>\n",
       "      <td>0</td>\n",
       "      <td>0</td>\n",
       "      <td>0</td>\n",
       "      <td>0</td>\n",
       "      <td>0</td>\n",
       "      <td>0</td>\n",
       "      <td>0</td>\n",
       "      <td>0</td>\n",
       "      <td>0</td>\n",
       "    </tr>\n",
       "    <tr>\n",
       "      <th>3</th>\n",
       "      <td>7358</td>\n",
       "      <td>2.3</td>\n",
       "      <td>1</td>\n",
       "      <td>0</td>\n",
       "      <td>0</td>\n",
       "      <td>0</td>\n",
       "      <td>0</td>\n",
       "      <td>0</td>\n",
       "      <td>0</td>\n",
       "      <td>0</td>\n",
       "      <td>...</td>\n",
       "      <td>0</td>\n",
       "      <td>0</td>\n",
       "      <td>0</td>\n",
       "      <td>0</td>\n",
       "      <td>0</td>\n",
       "      <td>0</td>\n",
       "      <td>0</td>\n",
       "      <td>0</td>\n",
       "      <td>0</td>\n",
       "      <td>0</td>\n",
       "    </tr>\n",
       "    <tr>\n",
       "      <th>4</th>\n",
       "      <td>5094</td>\n",
       "      <td>4.8</td>\n",
       "      <td>0</td>\n",
       "      <td>0</td>\n",
       "      <td>0</td>\n",
       "      <td>0</td>\n",
       "      <td>0</td>\n",
       "      <td>0</td>\n",
       "      <td>0</td>\n",
       "      <td>0</td>\n",
       "      <td>...</td>\n",
       "      <td>0</td>\n",
       "      <td>0</td>\n",
       "      <td>0</td>\n",
       "      <td>0</td>\n",
       "      <td>0</td>\n",
       "      <td>0</td>\n",
       "      <td>0</td>\n",
       "      <td>0</td>\n",
       "      <td>0</td>\n",
       "      <td>0</td>\n",
       "    </tr>\n",
       "  </tbody>\n",
       "</table>\n",
       "<p>5 rows × 51106 columns</p>\n",
       "</div>"
      ],
      "text/plain": [
       "   body_len  punct%  0  1  2  3  4  5  6  7  ...  51094  51095  51096  51097  \\\n",
       "0      4481     3.1  0  0  0  0  0  0  0  0  ...      0      0      0      0   \n",
       "1      9474     3.3  0  0  0  0  0  0  0  0  ...      0      0      0      0   \n",
       "2      6744     2.5  0  0  0  0  0  0  0  0  ...      0      0      0      0   \n",
       "3      7358     2.3  1  0  0  0  0  0  0  0  ...      0      0      0      0   \n",
       "4      5094     4.8  0  0  0  0  0  0  0  0  ...      0      0      0      0   \n",
       "\n",
       "   51098  51099  51100  51101  51102  51103  \n",
       "0      0      0      0      0      0      0  \n",
       "1      0      0      0      0      0      0  \n",
       "2      0      0      0      0      0      0  \n",
       "3      0      0      0      0      0      0  \n",
       "4      0      0      0      0      0      0  \n",
       "\n",
       "[5 rows x 51106 columns]"
      ]
     },
     "execution_count": 12,
     "metadata": {},
     "output_type": "execute_result"
    }
   ],
   "source": [
    "# Displaying the outcome of the feature extraction\n",
    "X_train_vect.head()"
   ]
  },
  {
   "cell_type": "code",
   "execution_count": 13,
   "metadata": {},
   "outputs": [],
   "source": [
    "# Importing and Initiating Random Forest Classifier \n",
    "from sklearn.ensemble import RandomForestClassifier\n",
    "RDF=RandomForestClassifier(n_estimators=150, max_depth=None, n_jobs=-1)"
   ]
  },
  {
   "cell_type": "code",
   "execution_count": 14,
   "metadata": {},
   "outputs": [
    {
     "name": "stdout",
     "output_type": "stream",
     "text": [
      "Accuracy: 90.74%\n",
      "Duration: 0:00:04.595555\n"
     ]
    }
   ],
   "source": [
    "# fitting and predicting the accuracy\n",
    "start_time = datetime.now()\n",
    "RDF.fit(count_train,y_train)\n",
    "y_pred=RDF.predict(count_test)\n",
    "score=accuracy_score(y_test, y_pred)\n",
    "print(f'Accuracy: {round(score*100,2)}%')\n",
    "end_time = datetime.now()\n",
    "print('Duration: {}'.format(end_time - start_time))"
   ]
  },
  {
   "cell_type": "code",
   "execution_count": 15,
   "metadata": {},
   "outputs": [
    {
     "data": {
      "image/png": "[encoded data removed]",
      "text/plain": [
       "<Figure size 432x288 with 2 Axes>"
      ]
     },
     "metadata": {
      "needs_background": "light"
     },
     "output_type": "display_data"
    }
   ],
   "source": [
    "# Plotting the confusion matrix to check th performance of the model\n",
    "cm = confusion_matrix(y_test, y_pred)\n",
    "class_label = [1, 0]\n",
    "df_cm = pd.DataFrame(cm, index=class_label,columns=class_label)\n",
    "sns.heatmap(df_cm, annot=True, fmt='d')\n",
    "plt.title(\"Confusion Matrix\")\n",
    "plt.xlabel(\"Predicted Label\")\n",
    "plt.ylabel(\"True Label\")\n",
    "plt.show()"
   ]
  },
  {
   "cell_type": "code",
   "execution_count": 16,
   "metadata": {},
   "outputs": [
    {
     "name": "stdout",
     "output_type": "stream",
     "text": [
      "              precision    recall  f1-score   support\n",
      "\n",
      "        FAKE       0.93      0.89      0.91       968\n",
      "        REAL       0.89      0.93      0.91       933\n",
      "\n",
      "    accuracy                           0.91      1901\n",
      "   macro avg       0.91      0.91      0.91      1901\n",
      "weighted avg       0.91      0.91      0.91      1901\n",
      "\n"
     ]
    }
   ],
   "source": [
    "# Displaying Precision, recall, F1-score used in analysing the performance\n",
    "print(classification_report(y_test,y_pred))"
   ]
  },
  {
   "cell_type": "code",
   "execution_count": 17,
   "metadata": {},
   "outputs": [],
   "source": [
    "# Importing and Initiating Gradient Boosting Classifier\n",
    "from sklearn.ensemble import GradientBoostingClassifier\n",
    "gb_clf = GradientBoostingClassifier()"
   ]
  },
  {
   "cell_type": "code",
   "execution_count": 18,
   "metadata": {},
   "outputs": [
    {
     "name": "stdout",
     "output_type": "stream",
     "text": [
      "Accuracy: 91.9%\n",
      "Duration: 0:00:22.037287\n"
     ]
    }
   ],
   "source": [
    "# fitting and predicting the accuracy\n",
    "start_time = datetime.now()\n",
    "gb_clf.fit(count_train,y_train)\n",
    "y_pred=gb_clf.predict(count_test)\n",
    "score=accuracy_score(y_test, y_pred)\n",
    "print(f'Accuracy: {round(score*100,2)}%')\n",
    "end_time = datetime.now()\n",
    "print('Duration: {}'.format(end_time - start_time))"
   ]
  },
  {
   "cell_type": "code",
   "execution_count": 19,
   "metadata": {},
   "outputs": [
    {
     "data": {
      "image/png": "[encoded data removed]",
      "text/plain": [
       "<Figure size 432x288 with 2 Axes>"
      ]
     },
     "metadata": {
      "needs_background": "light"
     },
     "output_type": "display_data"
    }
   ],
   "source": [
    "# Plotting the confusion matrix to check th performance of the model\n",
    "cm = confusion_matrix(y_test, y_pred)\n",
    "class_label = [1, 0]\n",
    "df_cm = pd.DataFrame(cm, index=class_label,columns=class_label)\n",
    "sns.heatmap(df_cm, annot=True, fmt='d')\n",
    "plt.title(\"Confusion Matrix\")\n",
    "plt.xlabel(\"Predicted Label\")\n",
    "plt.ylabel(\"True Label\")\n",
    "plt.show()"
   ]
  },
  {
   "cell_type": "code",
   "execution_count": 20,
   "metadata": {},
   "outputs": [
    {
     "name": "stdout",
     "output_type": "stream",
     "text": [
      "              precision    recall  f1-score   support\n",
      "\n",
      "        FAKE       0.91      0.93      0.92       968\n",
      "        REAL       0.93      0.91      0.92       933\n",
      "\n",
      "    accuracy                           0.92      1901\n",
      "   macro avg       0.92      0.92      0.92      1901\n",
      "weighted avg       0.92      0.92      0.92      1901\n",
      "\n"
     ]
    }
   ],
   "source": [
    "# Displaying Precision, recall, F1-score used in analysing the performance\n",
    "print(classification_report(y_test,y_pred))"
   ]
  },
  {
   "cell_type": "code",
   "execution_count": 63,
   "metadata": {},
   "outputs": [],
   "source": [
    "# Importing and Initiating Passive Aggressive Classifier\n",
    "from sklearn.linear_model import PassiveAggressiveClassifier\n",
    "pac=PassiveAggressiveClassifier()"
   ]
  },
  {
   "cell_type": "code",
   "execution_count": 64,
   "metadata": {},
   "outputs": [
    {
     "name": "stdout",
     "output_type": "stream",
     "text": [
      "Accuracy: 91.06%\n",
      "Duration: 0:00:00.336425\n"
     ]
    }
   ],
   "source": [
    "# fitting and predicting the accuracy\n",
    "start_time = datetime.now()\n",
    "pac.fit(count_train,y_train)\n",
    "y_pred=pac.predict(count_test)\n",
    "score=accuracy_score(y_test, y_pred)\n",
    "print(f'Accuracy: {round(score*100,2)}%')\n",
    "end_time = datetime.now()\n",
    "print('Duration: {}'.format(end_time - start_time))"
   ]
  },
  {
   "cell_type": "code",
   "execution_count": 23,
   "metadata": {},
   "outputs": [
    {
     "data": {
      "image/png": "[encoded data removed]",
      "text/plain": [
       "<Figure size 432x288 with 2 Axes>"
      ]
     },
     "metadata": {
      "needs_background": "light"
     },
     "output_type": "display_data"
    }
   ],
   "source": [
    "# Plotting the confusion matrix to check th performance of the model\n",
    "cm = confusion_matrix(y_test, y_pred)\n",
    "class_label = [1, 0]\n",
    "df_cm = pd.DataFrame(cm, index=class_label,columns=class_label)\n",
    "sns.heatmap(df_cm, annot=True, fmt='d')\n",
    "plt.title(\"Confusion Matrix\")\n",
    "plt.xlabel(\"Predicted Label\")\n",
    "plt.ylabel(\"True Label\")\n",
    "plt.show()"
   ]
  },
  {
   "cell_type": "code",
   "execution_count": 24,
   "metadata": {},
   "outputs": [
    {
     "name": "stdout",
     "output_type": "stream",
     "text": [
      "              precision    recall  f1-score   support\n",
      "\n",
      "        FAKE       0.92      0.90      0.91       968\n",
      "        REAL       0.90      0.92      0.91       933\n",
      "\n",
      "    accuracy                           0.91      1901\n",
      "   macro avg       0.91      0.91      0.91      1901\n",
      "weighted avg       0.91      0.91      0.91      1901\n",
      "\n"
     ]
    }
   ],
   "source": [
    "# Displaying Precision, recall, F1-score used in analysing the performance\n",
    "print(classification_report(y_test,y_pred))"
   ]
  },
  {
   "cell_type": "code",
   "execution_count": 25,
   "metadata": {},
   "outputs": [],
   "source": [
    "# Importing and Initiating Support Vector Machine Classifier\n",
    "from sklearn import svm\n",
    "SVM = svm.SVC(C=1.05, kernel = 'linear', degree = 3, gamma = 'auto')"
   ]
  },
  {
   "cell_type": "code",
   "execution_count": 26,
   "metadata": {},
   "outputs": [
    {
     "name": "stdout",
     "output_type": "stream",
     "text": [
      "Accuracy: 89.69%\n",
      "Duration: 0:00:19.708089\n"
     ]
    }
   ],
   "source": [
    "# fitting and predicting the accuracy\n",
    "start_time = datetime.now()\n",
    "SVM.fit(count_train,y_train)\n",
    "y_pred=SVM.predict(count_test)\n",
    "score=accuracy_score(y_test, y_pred)\n",
    "print(f'Accuracy: {round(score*100,2)}%')\n",
    "end_time = datetime.now()\n",
    "print('Duration: {}'.format(end_time - start_time))"
   ]
  },
  {
   "cell_type": "code",
   "execution_count": 27,
   "metadata": {},
   "outputs": [
    {
     "data": {
      "image/png": "[encoded data removed]",
      "text/plain": [
       "<Figure size 432x288 with 2 Axes>"
      ]
     },
     "metadata": {
      "needs_background": "light"
     },
     "output_type": "display_data"
    }
   ],
   "source": [
    "# Plotting the confusion matrix to check th performance of the model\n",
    "cm = confusion_matrix(y_test, y_pred)\n",
    "class_label = [1, 0]\n",
    "df_cm = pd.DataFrame(cm, index=class_label,columns=class_label)\n",
    "sns.heatmap(df_cm, annot=True, fmt='d')\n",
    "plt.title(\"Confusion Matrix\")\n",
    "plt.xlabel(\"Predicted Label\")\n",
    "plt.ylabel(\"True Label\")\n",
    "plt.show()"
   ]
  },
  {
   "cell_type": "code",
   "execution_count": 28,
   "metadata": {},
   "outputs": [
    {
     "name": "stdout",
     "output_type": "stream",
     "text": [
      "              precision    recall  f1-score   support\n",
      "\n",
      "        FAKE       0.91      0.89      0.90       968\n",
      "        REAL       0.89      0.91      0.90       933\n",
      "\n",
      "    accuracy                           0.90      1901\n",
      "   macro avg       0.90      0.90      0.90      1901\n",
      "weighted avg       0.90      0.90      0.90      1901\n",
      "\n"
     ]
    }
   ],
   "source": [
    "# Displaying Precision, recall, F1-score used in analysing the performance\n",
    "print(classification_report(y_test,y_pred))"
   ]
  },
  {
   "cell_type": "code",
   "execution_count": 29,
   "metadata": {},
   "outputs": [],
   "source": [
    "# Importing and Initiating Logistic Regression Classifier\n",
    "from sklearn.linear_model import LogisticRegression\n",
    "LRC= LogisticRegression()"
   ]
  },
  {
   "cell_type": "code",
   "execution_count": 30,
   "metadata": {},
   "outputs": [
    {
     "name": "stdout",
     "output_type": "stream",
     "text": [
      "Accuracy: 92.06%\n",
      "Duration: 0:00:02.005407\n"
     ]
    },
    {
     "name": "stderr",
     "output_type": "stream",
     "text": [
      "C:\\Users\\timot\\anaconda3\\lib\\site-packages\\sklearn\\linear_model\\_logistic.py:765: ConvergenceWarning: lbfgs failed to converge (status=1):\n",
      "STOP: TOTAL NO. of ITERATIONS REACHED LIMIT.\n",
      "\n",
      "Increase the number of iterations (max_iter) or scale the data as shown in:\n",
      "    https://scikit-learn.org/stable/modules/preprocessing.html\n",
      "Please also refer to the documentation for alternative solver options:\n",
      "    https://scikit-learn.org/stable/modules/linear_model.html#logistic-regression\n",
      "  extra_warning_msg=_LOGISTIC_SOLVER_CONVERGENCE_MSG)\n"
     ]
    }
   ],
   "source": [
    "# fitting and predicting the accuracy\n",
    "start_time = datetime.now()\n",
    "LRC.fit(count_train,y_train)\n",
    "y_pred=LRC.predict(count_test)\n",
    "score=accuracy_score(y_test, y_pred)\n",
    "print(f'Accuracy: {round(score*100,2)}%')\n",
    "end_time = datetime.now()\n",
    "print('Duration: {}'.format(end_time - start_time))"
   ]
  },
  {
   "cell_type": "code",
   "execution_count": 31,
   "metadata": {},
   "outputs": [
    {
     "data": {
      "image/png": "[encoded data removed]",
      "text/plain": [
       "<Figure size 432x288 with 2 Axes>"
      ]
     },
     "metadata": {
      "needs_background": "light"
     },
     "output_type": "display_data"
    }
   ],
   "source": [
    "# Plotting the confusion matrix to check th performance of the model\n",
    "cm = confusion_matrix(y_test, y_pred)\n",
    "class_label = [1, 0]\n",
    "df_cm = pd.DataFrame(cm, index=class_label,columns=class_label)\n",
    "sns.heatmap(df_cm, annot=True, fmt='d')\n",
    "plt.title(\"Confusion Matrix\")\n",
    "plt.xlabel(\"Predicted Label\")\n",
    "plt.ylabel(\"True Label\")\n",
    "plt.show()"
   ]
  },
  {
   "cell_type": "code",
   "execution_count": 32,
   "metadata": {},
   "outputs": [
    {
     "name": "stdout",
     "output_type": "stream",
     "text": [
      "              precision    recall  f1-score   support\n",
      "\n",
      "        FAKE       0.92      0.92      0.92       968\n",
      "        REAL       0.92      0.92      0.92       933\n",
      "\n",
      "    accuracy                           0.92      1901\n",
      "   macro avg       0.92      0.92      0.92      1901\n",
      "weighted avg       0.92      0.92      0.92      1901\n",
      "\n"
     ]
    }
   ],
   "source": [
    "# Displaying Precision, recall, F1-score used in analysing the performance\n",
    "print(classification_report(y_test,y_pred))"
   ]
  },
  {
   "cell_type": "code",
   "execution_count": 33,
   "metadata": {},
   "outputs": [],
   "source": [
    "# Importing and Initiating AdaBoost Classifier\n",
    "from sklearn.ensemble import AdaBoostClassifier\n",
    "abc = AdaBoostClassifier()"
   ]
  },
  {
   "cell_type": "code",
   "execution_count": 34,
   "metadata": {},
   "outputs": [
    {
     "name": "stdout",
     "output_type": "stream",
     "text": [
      "Accuracy: 89.32%\n",
      "Duration: 0:00:04.457465\n"
     ]
    }
   ],
   "source": [
    "# fitting and predicting the accuracy\n",
    "start_time = datetime.now()\n",
    "abc.fit(count_train,y_train)\n",
    "y_pred=abc.predict(count_test)\n",
    "score=accuracy_score(y_test, y_pred)\n",
    "print(f'Accuracy: {round(score*100,2)}%')\n",
    "end_time = datetime.now()\n",
    "print('Duration: {}'.format(end_time - start_time))"
   ]
  },
  {
   "cell_type": "code",
   "execution_count": 35,
   "metadata": {},
   "outputs": [
    {
     "data": {
      "image/png": "[encoded data removed]",
      "text/plain": [
       "<Figure size 432x288 with 2 Axes>"
      ]
     },
     "metadata": {
      "needs_background": "light"
     },
     "output_type": "display_data"
    }
   ],
   "source": [
    "# Plotting the confusion matrix to check th performance of the model\n",
    "cm = confusion_matrix(y_test, y_pred)\n",
    "class_label = [1, 0]\n",
    "df_cm = pd.DataFrame(cm, index=class_label,columns=class_label)\n",
    "sns.heatmap(df_cm, annot=True, fmt='d')\n",
    "plt.title(\"Confusion Matrix\")\n",
    "plt.xlabel(\"Predicted Label\")\n",
    "plt.ylabel(\"True Label\")\n",
    "plt.show()"
   ]
  },
  {
   "cell_type": "code",
   "execution_count": 36,
   "metadata": {},
   "outputs": [
    {
     "name": "stdout",
     "output_type": "stream",
     "text": [
      "              precision    recall  f1-score   support\n",
      "\n",
      "        FAKE       0.88      0.91      0.90       968\n",
      "        REAL       0.90      0.87      0.89       933\n",
      "\n",
      "    accuracy                           0.89      1901\n",
      "   macro avg       0.89      0.89      0.89      1901\n",
      "weighted avg       0.89      0.89      0.89      1901\n",
      "\n"
     ]
    }
   ],
   "source": [
    "# Displaying Precision, recall, F1-score used in analysing the performance\n",
    "print(classification_report(y_test,y_pred))"
   ]
  },
  {
   "cell_type": "code",
   "execution_count": 37,
   "metadata": {},
   "outputs": [],
   "source": [
    "# Importing and Initiating DecisionTree Classifier\n",
    "from sklearn.tree import DecisionTreeClassifier\n",
    "DTC = DecisionTreeClassifier(criterion= 'entropy',max_depth = 20,splitter='best',random_state=42)"
   ]
  },
  {
   "cell_type": "code",
   "execution_count": 38,
   "metadata": {},
   "outputs": [
    {
     "name": "stdout",
     "output_type": "stream",
     "text": [
      "Accuracy: 81.12%\n",
      "Duration: 0:00:01.884624\n"
     ]
    }
   ],
   "source": [
    "# fitting and predicting the accuracy\n",
    "start_time = datetime.now()\n",
    "DTC.fit(count_train,y_train)\n",
    "y_pred=DTC.predict(count_test)\n",
    "score=accuracy_score(y_test, y_pred)\n",
    "print(f'Accuracy: {round(score*100,2)}%')\n",
    "end_time = datetime.now()\n",
    "print('Duration: {}'.format(end_time - start_time))"
   ]
  },
  {
   "cell_type": "code",
   "execution_count": 39,
   "metadata": {},
   "outputs": [
    {
     "data": {
      "image/png": "[encoded data removed]",
      "text/plain": [
       "<Figure size 432x288 with 2 Axes>"
      ]
     },
     "metadata": {
      "needs_background": "light"
     },
     "output_type": "display_data"
    }
   ],
   "source": [
    "# Plotting the confusion matrix to check th performance of the model\n",
    "cm = confusion_matrix(y_test, y_pred)\n",
    "class_label = [1, 0]\n",
    "df_cm = pd.DataFrame(cm, index=class_label,columns=class_label)\n",
    "sns.heatmap(df_cm, annot=True, fmt='d')\n",
    "plt.title(\"Confusion Matrix\")\n",
    "plt.xlabel(\"Predicted Label\")\n",
    "plt.ylabel(\"True Label\")\n",
    "plt.show()"
   ]
  },
  {
   "cell_type": "code",
   "execution_count": 40,
   "metadata": {},
   "outputs": [
    {
     "name": "stdout",
     "output_type": "stream",
     "text": [
      "              precision    recall  f1-score   support\n",
      "\n",
      "        FAKE       0.80      0.83      0.82       968\n",
      "        REAL       0.82      0.79      0.80       933\n",
      "\n",
      "    accuracy                           0.81      1901\n",
      "   macro avg       0.81      0.81      0.81      1901\n",
      "weighted avg       0.81      0.81      0.81      1901\n",
      "\n"
     ]
    }
   ],
   "source": [
    "# Displaying Precision, recall, F1-score used in analysing the performance\n",
    "print(classification_report(y_test,y_pred))"
   ]
  },
  {
   "cell_type": "code",
   "execution_count": 46,
   "metadata": {},
   "outputs": [
    {
     "data": {
      "image/png": "[encoded data removed]",
      "text/plain": [
       "<Figure size 864x576 with 1 Axes>"
      ]
     },
     "metadata": {
      "needs_background": "light"
     },
     "output_type": "display_data"
    }
   ],
   "source": [
    "#Plotting graph for precision performance \n",
    "barWidth = 0.25\n",
    "fig = plt.subplots(figsize =(12, 8))\n",
    " \n",
    "# set height of bar\n",
    "\n",
    "TDIDF = [92,95,95,89,84,91,95]\n",
    "CountVectorizer =[93,91,92,81,80,91,92]\n",
    "\n",
    "# Set position of bar on X axis\n",
    "br1 = np.arange(len(TDIDF))\n",
    "br2 = [x + barWidth for x in br1]\n",
    "\n",
    "# Make the plot\n",
    "plt.bar(br1, TDIDF, color ='r', width = barWidth,edgecolor ='grey', label ='TD-IDF')\n",
    "plt.bar(br2, CountVectorizer, color ='g', width = barWidth, edgecolor ='grey', label ='CountVectorizer')\n",
    " \n",
    "# Adding Xticks\n",
    "plt.title(\"Precision Performance\", fontweight ='bold', fontsize = 15)\n",
    "plt.xlabel('Vectorizer', fontweight ='bold', fontsize = 15)\n",
    "plt.ylabel('Precision', fontweight ='bold', fontsize = 15)\n",
    "plt.xticks([r + barWidth for r in range(len(TDIDF))],\n",
    "        [\"Random Forest\", \"SVM\", \"Passive-aggressive\", \"AdaBoost\", \"Decision Tree\",\"Gradient Boosting\", \"Logistic Regression\"])\n",
    "plt.legend()\n",
    "plt.show()"
   ]
  },
  {
   "cell_type": "code",
   "execution_count": 47,
   "metadata": {},
   "outputs": [
    {
     "data": {
      "image/png": "[encoded data removed]",
      "text/plain": [
       "<Figure size 864x576 with 1 Axes>"
      ]
     },
     "metadata": {
      "needs_background": "light"
     },
     "output_type": "display_data"
    }
   ],
   "source": [
    "#Plotting graph for Accuracy performance\n",
    "barWidth = 0.25\n",
    "fig = plt.subplots(figsize =(12, 8)) \n",
    "# set height of bar\n",
    "TDIDF = [91,93,94,88,81,90,91]\n",
    "CountVectorizer =[91,89,90,89,81,91,92]\n",
    " \n",
    "# Set position of bar on X axis\n",
    "br1 = np.arange(len(TDIDF))\n",
    "br2 = [x + barWidth for x in br1]\n",
    " \n",
    "# Make the plot\n",
    "plt.bar(br1, TDIDF, color ='r', width = barWidth, edgecolor ='grey', label ='TD-IDF')\n",
    "plt.bar(br2, CountVectorizer, color ='g', width = barWidth, edgecolor ='grey', label ='CountVectorizer')\n",
    " \n",
    "# Adding Xticks\n",
    "plt.title(\"Accuracy Performance\", fontweight ='bold', fontsize = 15)\n",
    "plt.xlabel('Classifier', fontweight ='bold', fontsize = 15)\n",
    "plt.ylabel('Accuracy', fontweight ='bold', fontsize = 15)\n",
    "plt.xticks([r + barWidth for r in range(len(TDIDF))],\n",
    "        [\"Random Forest\", \"SVM\", \"Passive-aggressive\", \"AdaBoost\", \"Decision Tree\",\"Gradient Boosting\", \"Logistic Regression\"])\n",
    " \n",
    "plt.legend()\n",
    "plt.show()"
   ]
  },
  {
   "cell_type": "code",
   "execution_count": 48,
   "metadata": {},
   "outputs": [
    {
     "data": {
      "image/png": "[encoded data removed]",
      "text/plain": [
       "<Figure size 864x576 with 1 Axes>"
      ]
     },
     "metadata": {
      "needs_background": "light"
     },
     "output_type": "display_data"
    }
   ],
   "source": [
    "#Plotting graph for F1 Score performance\n",
    "barWidth = 0.25\n",
    "fig = plt.subplots(figsize =(12, 8))\n",
    " \n",
    "# set height of bar\n",
    "\n",
    "TDIDF = [92,94,94,89,82,91,92]\n",
    "CountVectorizer =[91,90,91,79,82,92,92]\n",
    " \n",
    "# Set position of bar on X axis\n",
    "br1 = np.arange(len(TDIDF))\n",
    "br2 = [x + barWidth for x in br1]\n",
    "\n",
    " \n",
    "# Make the plot\n",
    "plt.bar(br1, TDIDF, color ='r', width = barWidth,\n",
    "        edgecolor ='grey', label ='TD-IDF')\n",
    "plt.bar(br2, CountVectorizer, color ='g', width = barWidth,\n",
    "        edgecolor ='grey', label ='CountVectorizer')\n",
    " \n",
    "# Adding Xticks\n",
    "plt.title(\"F1 Score Performance\", fontweight ='bold', fontsize = 15)\n",
    "plt.xlabel('Vectorizer', fontweight ='bold', fontsize = 15)\n",
    "plt.ylabel('F1 Score', fontweight ='bold', fontsize = 15)\n",
    "plt.xticks([r + barWidth for r in range(len(TDIDF))],\n",
    "        [\"Random Forest\", \"SVM\", \"Passive-aggressive\", \"AdaBoost\", \"Decision Tree\",\"Gradient Boosting\", \"Logistic Regression\"])\n",
    " \n",
    "plt.legend()\n",
    "plt.show()"
   ]
  },
  {
   "cell_type": "code",
   "execution_count": 51,
   "metadata": {},
   "outputs": [
    {
     "data": {
      "image/png": "[encoded data removed]",
      "text/plain": [
       "<Figure size 864x576 with 1 Axes>"
      ]
     },
     "metadata": {
      "needs_background": "light"
     },
     "output_type": "display_data"
    }
   ],
   "source": [
    "#Plotting Confusion matrix for True prediction performance\n",
    "barWidth = 0.25\n",
    "fig = plt.subplots(figsize =(12, 8))\n",
    " \n",
    "# set height of bar\n",
    "\n",
    "TDIDF = [92,93,93,89,80,91,89]\n",
    "CountVectorizer =[90,89,90,77,83,93,92]\n",
    " \n",
    "# Set position of bar on X axis\n",
    "br1 = np.arange(len(TDIDF))\n",
    "br2 = [x + barWidth for x in br1]\n",
    "\n",
    " \n",
    "# Make the plot\n",
    "plt.bar(br1, TDIDF, color ='r', width = barWidth,\n",
    "        edgecolor ='grey', label ='TD-IDF')\n",
    "plt.bar(br2, CountVectorizer, color ='g', width = barWidth,\n",
    "        edgecolor ='grey', label ='CountVectorizer')\n",
    " \n",
    "# Adding Xticks\n",
    "plt.xlabel('Vectorizer', fontweight ='bold', fontsize = 15)\n",
    "plt.ylabel('Recall', fontweight ='bold', fontsize = 15)\n",
    "plt.xticks([r + barWidth for r in range(len(TDIDF))],\n",
    "        [\"Random Forest\", \"SVM\", \"Passive-aggressive\", \"AdaBoost\", \"Decision Tree\",\"Gradient Boosting\", \"Logistic Regression\"])\n",
    " \n",
    "plt.legend()\n",
    "plt.show()"
   ]
  },
  {
   "cell_type": "code",
   "execution_count": null,
   "metadata": {},
   "outputs": [],
   "source": []
  }
 ],
 "metadata": {
  "kernelspec": {
   "display_name": "Python 3",
   "language": "python",
   "name": "python3"
  },
  "language_info": {
   "codemirror_mode": {
    "name": "ipython",
    "version": 3
   },
   "file_extension": ".py",
   "mimetype": "text/x-python",
   "name": "python",
   "nbconvert_exporter": "python",
   "pygments_lexer": "ipython3",
   "version": "3.7.6"
  }
 },
 "nbformat": 4,
 "nbformat_minor": 4
}
